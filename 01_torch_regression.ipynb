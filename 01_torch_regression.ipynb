{
  "nbformat": 4,
  "nbformat_minor": 0,
  "metadata": {
    "colab": {
      "provenance": [],
      "authorship_tag": "ABX9TyP05GnuT1vFipzxTo8BuxpE",
      "include_colab_link": true
    },
    "kernelspec": {
      "name": "python3",
      "display_name": "Python 3"
    },
    "language_info": {
      "name": "python"
    }
  },
  "cells": [
    {
      "cell_type": "markdown",
      "metadata": {
        "id": "view-in-github",
        "colab_type": "text"
      },
      "source": [
        "<a href=\"https://colab.research.google.com/github/sidhu2690/Torch_Notes/blob/main/01_torch_regression.ipynb\" target=\"_parent\"><img src=\"https://colab.research.google.com/assets/colab-badge.svg\" alt=\"Open In Colab\"/></a>"
      ]
    },
    {
      "cell_type": "code",
      "execution_count": 14,
      "metadata": {
        "id": "5xcpGnYhWTlT"
      },
      "outputs": [],
      "source": [
        "import torch\n",
        "from torch import nn\n",
        "import numpy as np\n",
        "import matplotlib.pyplot as plt\n"
      ]
    },
    {
      "cell_type": "code",
      "source": [
        "torch.manual_seed(42)\n",
        "\n",
        "X = np.arange(1, 1001)\n",
        "y = 2 * X + 10\n",
        "\n",
        "X_train, X_test, y_train, y_test = X[:800], X[800:], y[:800], y[800:]"
      ],
      "metadata": {
        "id": "Dq92YLtKXtPJ"
      },
      "execution_count": 21,
      "outputs": []
    },
    {
      "cell_type": "code",
      "source": [
        "X_train = torch.tensor(X_train, dtype = torch.float32)\n",
        "y_train = torch.tensor(y_train, dtype = torch.float32)\n",
        "X_test = torch.tensor(X_test, dtype = torch.float32)\n",
        "y_test = torch.tensor(y_test, dtype = torch.float32)"
      ],
      "metadata": {
        "id": "Pa68kavSX8AL"
      },
      "execution_count": 22,
      "outputs": []
    },
    {
      "cell_type": "code",
      "source": [
        "plt.figure(figsize=(4, 3))\n",
        "plt.scatter(X_train.numpy(), y_train.numpy(), color='red')\n",
        "plt.scatter(X_test.numpy(), y_test.numpy(), color = 'blue')\n",
        "plt.show()"
      ],
      "metadata": {
        "colab": {
          "base_uri": "https://localhost:8080/",
          "height": 291
        },
        "id": "UsJuTj6FYD7V",
        "outputId": "3a1eeadb-a7eb-4bbd-a015-27ce087e0558"
      },
      "execution_count": 24,
      "outputs": [
        {
          "output_type": "display_data",
          "data": {
            "text/plain": [
              "<Figure size 400x300 with 1 Axes>"
            ],
            "image/png": "[encoded data removed]"
          },
          "metadata": {}
        }
      ]
    },
    {
      "cell_type": "markdown",
      "source": [
        "# Model"
      ],
      "metadata": {
        "id": "iYsKMmUWbeTR"
      }
    },
    {
      "cell_type": "code",
      "source": [
        "class Model(nn.Module):\n",
        "  def __init__(self):\n",
        "    super(Model, self).__init__()\n",
        "\n",
        "    self.w = nn.Parameter(torch.randn(1, dtype = torch.float32))\n",
        "    self.b = nn.Parameter(torch.randn(1, dtype = torch.float32))\n",
        "\n",
        "  def forward(self, x):\n",
        "    return self.w * x + self.b"
      ],
      "metadata": {
        "id": "yKttTMS_be8H"
      },
      "execution_count": 51,
      "outputs": []
    },
    {
      "cell_type": "code",
      "source": [
        "model = Model()"
      ],
      "metadata": {
        "id": "V8bhoX-kb7EP"
      },
      "execution_count": 52,
      "outputs": []
    },
    {
      "cell_type": "code",
      "source": [
        "model.state_dict()"
      ],
      "metadata": {
        "colab": {
          "base_uri": "https://localhost:8080/"
        },
        "id": "8yMhQL4tb80K",
        "outputId": "656bbc6e-2162-4cfe-ce6c-727f94f9985e"
      },
      "execution_count": 53,
      "outputs": [
        {
          "output_type": "execute_result",
          "data": {
            "text/plain": [
              "OrderedDict([('w', tensor([0.2345])), ('b', tensor([0.2303]))])"
            ]
          },
          "metadata": {},
          "execution_count": 53
        }
      ]
    },
    {
      "cell_type": "code",
      "source": [
        "optimizer = torch.optim.SGD(params = model.parameters(), lr = 0.001)\n",
        "criterion = nn.L1Loss()\n",
        "epochs = 100"
      ],
      "metadata": {
        "id": "s4RUwqmGb-Gx"
      },
      "execution_count": 54,
      "outputs": []
    },
    {
      "cell_type": "code",
      "source": [
        "model(X_train).shape, y_train.shape"
      ],
      "metadata": {
        "colab": {
          "base_uri": "https://localhost:8080/"
        },
        "id": "SnPwEGbNcZcP",
        "outputId": "1a6d86d4-a099-4270-b340-1437e803b8bd"
      },
      "execution_count": 55,
      "outputs": [
        {
          "output_type": "execute_result",
          "data": {
            "text/plain": [
              "(torch.Size([800]), torch.Size([800]))"
            ]
          },
          "metadata": {},
          "execution_count": 55
        }
      ]
    },
    {
      "cell_type": "code",
      "source": [
        "for epoch in range(epochs):\n",
        "  model.train()\n",
        "  y_pred = model(X_train)\n",
        "  loss = criterion(y_pred, y_train)\n",
        "\n",
        "  optimizer.zero_grad()\n",
        "  loss.backward()\n",
        "  optimizer.step()\n",
        "\n",
        "  if epoch % 20 == 0:\n",
        "    print(f\" Epoch: {epoch} | Loss: {loss}\")"
      ],
      "metadata": {
        "colab": {
          "base_uri": "https://localhost:8080/"
        },
        "id": "g0dJ6yp8cMCe",
        "outputId": "0fbad805-8183-4b87-9221-21a1f006fb0f"
      },
      "execution_count": 56,
      "outputs": [
        {
          "output_type": "stream",
          "name": "stdout",
          "text": [
            " Epoch: 0 | Loss: 716.8674926757812\n",
            " Epoch: 20 | Loss: 68.85173034667969\n",
            " Epoch: 40 | Loss: 61.80927658081055\n",
            " Epoch: 60 | Loss: 55.604732513427734\n",
            " Epoch: 80 | Loss: 50.05183410644531\n"
          ]
        }
      ]
    },
    {
      "cell_type": "code",
      "source": [
        "# Check result\n",
        "\n",
        "model.eval()\n",
        "with torch.inference_mode():\n",
        "  y_predicted = model(X_test)\n",
        "\n",
        "plt.figure(figsize=(4, 3))\n",
        "plt.scatter(y_predicted, y_test)\n",
        "plt.show()"
      ],
      "metadata": {
        "colab": {
          "base_uri": "https://localhost:8080/",
          "height": 291
        },
        "id": "WVhq2lV2c4bN",
        "outputId": "c4744a00-761a-4f39-b7f1-2119b11b3900"
      },
      "execution_count": 57,
      "outputs": [
        {
          "output_type": "display_data",
          "data": {
            "text/plain": [
              "<Figure size 400x300 with 1 Axes>"
            ],
            "image/png": "[encoded data removed]"
          },
          "metadata": {}
        }
      ]
    },
    {
      "cell_type": "code",
      "source": [
        "plt.figure(figsize=(4, 3))\n",
        "plt.scatter(y_test, y_predicted, color = 'g')\n",
        "plt.show()"
      ],
      "metadata": {
        "id": "RfPpjhZZd3bf",
        "colab": {
          "base_uri": "https://localhost:8080/",
          "height": 291
        },
        "outputId": "419ff7c5-8492-443a-9ed6-d206580a5175"
      },
      "execution_count": 58,
      "outputs": [
        {
          "output_type": "display_data",
          "data": {
            "text/plain": [
              "<Figure size 400x300 with 1 Axes>"
            ],
            "image/png": "[encoded data removed]"
          },
          "metadata": {}
        }
      ]
    },
    {
      "cell_type": "code",
      "source": [],
      "metadata": {
        "id": "psM2Kh9vLl9V"
      },
      "execution_count": null,
      "outputs": []
    }
  ]
}