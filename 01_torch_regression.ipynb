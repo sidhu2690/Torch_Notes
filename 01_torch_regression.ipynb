{
  "nbformat": 4,
  "nbformat_minor": 0,
  "metadata": {
    "colab": {
      "provenance": [],
      "authorship_tag": "ABX9TyPlZs5E4hArJ27zshpTBazq",
      "include_colab_link": true
    },
    "kernelspec": {
      "name": "python3",
      "display_name": "Python 3"
    },
    "language_info": {
      "name": "python"
    }
  },
  "cells": [
    {
      "cell_type": "markdown",
      "metadata": {
        "id": "view-in-github",
        "colab_type": "text"
      },
      "source": [
        "<a href=\"https://colab.research.google.com/github/sidhu2690/Torch_Notes/blob/main/01_torch_regression.ipynb\" target=\"_parent\"><img src=\"https://colab.research.google.com/assets/colab-badge.svg\" alt=\"Open In Colab\"/></a>"
      ]
    },
    {
      "cell_type": "code",
      "execution_count": 8,
      "metadata": {
        "id": "5xcpGnYhWTlT"
      },
      "outputs": [],
      "source": [
        "import torch\n",
        "from torch import nn\n",
        "import numpy as np\n",
        "import matplotlib.pyplot as plt"
      ]
    },
    {
      "cell_type": "code",
      "source": [
        "torch.manual_seed(42)\n",
        "\n",
        "x = np.arange(1, 1000)\n",
        "y = 2 * x + 10"
      ],
      "metadata": {
        "id": "Dq92YLtKXtPJ"
      },
      "execution_count": 192,
      "outputs": []
    },
    {
      "cell_type": "code",
      "source": [
        "X = torch.tensor(x, dtype = torch.float32)\n",
        "y = torch.tensor(y, dtype = torch.float32)"
      ],
      "metadata": {
        "id": "Pa68kavSX8AL"
      },
      "execution_count": 193,
      "outputs": []
    },
    {
      "cell_type": "code",
      "source": [
        "plt.figure(figsize=(4, 3))\n",
        "plt.scatter(X.numpy(), y.numpy(), color='red')\n",
        "plt.show()"
      ],
      "metadata": {
        "colab": {
          "base_uri": "https://localhost:8080/",
          "height": 291
        },
        "id": "UsJuTj6FYD7V",
        "outputId": "5200b1b8-00d8-42e7-b393-d0e262fb1eec"
      },
      "execution_count": 194,
      "outputs": [
        {
          "output_type": "display_data",
          "data": {
            "text/plain": [
              "<Figure size 400x300 with 1 Axes>"
            ],
            "image/png": "[encoded data removed]"
          },
          "metadata": {}
        }
      ]
    },
    {
      "cell_type": "markdown",
      "source": [
        "# Model"
      ],
      "metadata": {
        "id": "iYsKMmUWbeTR"
      }
    },
    {
      "cell_type": "code",
      "source": [
        "class Model(nn.Module):\n",
        "  def __init__(self):\n",
        "    super(Model, self).__init__()\n",
        "\n",
        "    self.w = nn.Parameter(torch.randn(1, dtype = torch.float32))\n",
        "    self.b = nn.Parameter(torch.randn(1, dtype = torch.float32))\n",
        "\n",
        "  def forward(self, x):\n",
        "    return self.w * x + self.b"
      ],
      "metadata": {
        "id": "yKttTMS_be8H"
      },
      "execution_count": 195,
      "outputs": []
    },
    {
      "cell_type": "code",
      "source": [
        "model = Model()"
      ],
      "metadata": {
        "id": "V8bhoX-kb7EP"
      },
      "execution_count": 196,
      "outputs": []
    },
    {
      "cell_type": "code",
      "source": [
        "model.state_dict()"
      ],
      "metadata": {
        "colab": {
          "base_uri": "https://localhost:8080/"
        },
        "id": "8yMhQL4tb80K",
        "outputId": "b0e6a5be-49e5-4099-bb83-c6f057f1337f"
      },
      "execution_count": 197,
      "outputs": [
        {
          "output_type": "execute_result",
          "data": {
            "text/plain": [
              "OrderedDict([('w', tensor([0.3367])), ('b', tensor([0.1288]))])"
            ]
          },
          "metadata": {},
          "execution_count": 197
        }
      ]
    },
    {
      "cell_type": "code",
      "source": [
        "optimizer = torch.optim.SGD(params = model.parameters(), lr = 0.0001)\n",
        "criterion = nn.L1Loss()\n",
        "epochs = 100"
      ],
      "metadata": {
        "id": "s4RUwqmGb-Gx"
      },
      "execution_count": 198,
      "outputs": []
    },
    {
      "cell_type": "code",
      "source": [
        "model(X).shape, y.shape"
      ],
      "metadata": {
        "colab": {
          "base_uri": "https://localhost:8080/"
        },
        "id": "SnPwEGbNcZcP",
        "outputId": "66e25943-aa74-47dc-e166-ce44ebede1de"
      },
      "execution_count": 199,
      "outputs": [
        {
          "output_type": "execute_result",
          "data": {
            "text/plain": [
              "(torch.Size([999]), torch.Size([999]))"
            ]
          },
          "metadata": {},
          "execution_count": 199
        }
      ]
    },
    {
      "cell_type": "code",
      "source": [
        "for epoch in range(epochs):\n",
        "  model.train()\n",
        "  y_pred = model(X)\n",
        "  loss = criterion(y_pred, y)\n",
        "\n",
        "  optimizer.zero_grad()\n",
        "  loss.backward()\n",
        "  optimizer.step()\n",
        "\n",
        "  if epoch % 20 == 0:\n",
        "    print(f\" Epoch: {epoch} | Loss: {loss}\")"
      ],
      "metadata": {
        "colab": {
          "base_uri": "https://localhost:8080/"
        },
        "id": "g0dJ6yp8cMCe",
        "outputId": "d626585e-301f-4372-fe32-d4b6347db5a7"
      },
      "execution_count": 200,
      "outputs": [
        {
          "output_type": "stream",
          "name": "stdout",
          "text": [
            " Epoch: 0 | Loss: 841.5260009765625\n",
            " Epoch: 20 | Loss: 341.5240783691406\n",
            " Epoch: 40 | Loss: 18.468673706054688\n",
            " Epoch: 60 | Loss: 16.626623153686523\n",
            " Epoch: 80 | Loss: 14.564393997192383\n"
          ]
        }
      ]
    },
    {
      "cell_type": "code",
      "source": [
        "# Check result\n",
        "\n",
        "model.eval()\n",
        "with torch.inference_mode():\n",
        "  y_predicted = model(X)\n",
        "\n",
        "plt.figure(figsize=(4, 3))\n",
        "plt.scatter(y_predicted, y)\n",
        "plt.show()"
      ],
      "metadata": {
        "colab": {
          "base_uri": "https://localhost:8080/",
          "height": 291
        },
        "id": "WVhq2lV2c4bN",
        "outputId": "68b9df9b-0c79-4a38-81c6-07345f9779ad"
      },
      "execution_count": 201,
      "outputs": [
        {
          "output_type": "display_data",
          "data": {
            "text/plain": [
              "<Figure size 400x300 with 1 Axes>"
            ],
            "image/png": "[encoded data removed]"
          },
          "metadata": {}
        }
      ]
    },
    {
      "cell_type": "code",
      "source": [],
      "metadata": {
        "id": "RfPpjhZZd3bf"
      },
      "execution_count": null,
      "outputs": []
    }
  ]
}