{
  "nbformat": 4,
  "nbformat_minor": 0,
  "metadata": {
    "colab": {
      "provenance": [],
      "gpuType": "T4",
      "authorship_tag": "ABX9TyPIQHqeW4FO31j+yzo6wuOi",
      "include_colab_link": true
    },
    "kernelspec": {
      "name": "python3",
      "display_name": "Python 3"
    },
    "language_info": {
      "name": "python"
    },
    "accelerator": "GPU"
  },
  "cells": [
    {
      "cell_type": "markdown",
      "metadata": {
        "id": "view-in-github",
        "colab_type": "text"
      },
      "source": [
        "<a href=\"https://colab.research.google.com/github/sidhu2690/Torch/blob/main/00_torch_fundamentals.ipynb\" target=\"_parent\"><img src=\"https://colab.research.google.com/assets/colab-badge.svg\" alt=\"Open In Colab\"/></a>"
      ]
    },
    {
      "cell_type": "code",
      "execution_count": 1,
      "metadata": {
        "id": "aQbOnvo-ENU8"
      },
      "outputs": [],
      "source": [
        "import torch"
      ]
    },
    {
      "cell_type": "code",
      "source": [
        "print(f\"Torch version: {torch.__version__}\")"
      ],
      "metadata": {
        "colab": {
          "base_uri": "https://localhost:8080/"
        },
        "id": "pMvNlLRHExFt",
        "outputId": "0672f337-7402-4f62-ccf3-a8ed59e309ef"
      },
      "execution_count": 4,
      "outputs": [
        {
          "output_type": "stream",
          "name": "stdout",
          "text": [
            "Torch version: 2.6.0+cu124\n"
          ]
        }
      ]
    },
    {
      "cell_type": "code",
      "source": [
        "print(f\"Cuda Available: {torch.cuda.is_available()}\")"
      ],
      "metadata": {
        "colab": {
          "base_uri": "https://localhost:8080/"
        },
        "id": "uJmuadzlE6hb",
        "outputId": "44fb2d22-cec5-4e67-cc5d-3a94f0db74dd"
      },
      "execution_count": 7,
      "outputs": [
        {
          "output_type": "stream",
          "name": "stdout",
          "text": [
            "Cuda Available: True\n"
          ]
        }
      ]
    },
    {
      "cell_type": "code",
      "source": [
        "device = \"cuda\" if torch.cuda.is_available() else \"cpu\"\n",
        "print(f\"Using device: {device}\")"
      ],
      "metadata": {
        "colab": {
          "base_uri": "https://localhost:8080/"
        },
        "id": "20w5FtC0FFNG",
        "outputId": "a0eee320-8ca1-4e95-a100-3cf94d32ff72"
      },
      "execution_count": 10,
      "outputs": [
        {
          "output_type": "stream",
          "name": "stdout",
          "text": [
            "Using device: cuda\n"
          ]
        }
      ]
    },
    {
      "cell_type": "markdown",
      "source": [
        "# Scalars"
      ],
      "metadata": {
        "id": "TyqbPxl1FkHu"
      }
    },
    {
      "cell_type": "code",
      "source": [
        "scalar = torch.tensor(100)\n",
        "print(scalar, scalar.shape)"
      ],
      "metadata": {
        "colab": {
          "base_uri": "https://localhost:8080/"
        },
        "id": "aZ84jF19FRAN",
        "outputId": "7b0ebf28-954e-48ee-a5df-b1a87d2ed28d"
      },
      "execution_count": 14,
      "outputs": [
        {
          "output_type": "stream",
          "name": "stdout",
          "text": [
            "tensor(100) torch.Size([])\n"
          ]
        }
      ]
    },
    {
      "cell_type": "markdown",
      "source": [
        "# Vectors"
      ],
      "metadata": {
        "id": "4-3xZlPNF0Ex"
      }
    },
    {
      "cell_type": "code",
      "source": [
        "vector = torch.tensor([10])\n",
        "print(vector, vector.shape)"
      ],
      "metadata": {
        "colab": {
          "base_uri": "https://localhost:8080/"
        },
        "id": "NERGOPYdFnc2",
        "outputId": "d1bb8841-2950-4369-e843-35b7a905a9be"
      },
      "execution_count": 16,
      "outputs": [
        {
          "output_type": "stream",
          "name": "stdout",
          "text": [
            "tensor([10]) torch.Size([1])\n"
          ]
        }
      ]
    },
    {
      "cell_type": "markdown",
      "source": [
        "# Matrices"
      ],
      "metadata": {
        "id": "ALpg-NC6F_cK"
      }
    },
    {
      "cell_type": "code",
      "source": [
        "matrices = torch.tensor([[10, 12],\n",
        "                         [12, 12]])\n",
        "print(matrices, matrices.shape)"
      ],
      "metadata": {
        "colab": {
          "base_uri": "https://localhost:8080/"
        },
        "id": "P_vWfxb1F6yL",
        "outputId": "1478f196-5b20-4ef9-fd19-a8b458406421"
      },
      "execution_count": 18,
      "outputs": [
        {
          "output_type": "stream",
          "name": "stdout",
          "text": [
            "tensor([[10, 12],\n",
            "        [12, 12]]) torch.Size([2, 2])\n"
          ]
        }
      ]
    },
    {
      "cell_type": "markdown",
      "source": [
        "# 3D tensors"
      ],
      "metadata": {
        "id": "pohsQYOUGRjP"
      }
    },
    {
      "cell_type": "code",
      "source": [
        "tensor = torch.tensor([[[10, 10],\n",
        "                        [10, 10]],\n",
        "                       [[10, 10],\n",
        "                        [10, 10]]])\n",
        "print(tensor, tensor.shape)"
      ],
      "metadata": {
        "colab": {
          "base_uri": "https://localhost:8080/"
        },
        "id": "qW7IRE87GNYu",
        "outputId": "07fcf8ba-7ff2-4fc9-f0fb-35001d9e7f02"
      },
      "execution_count": 24,
      "outputs": [
        {
          "output_type": "stream",
          "name": "stdout",
          "text": [
            "tensor([[[10, 10],\n",
            "         [10, 10]],\n",
            "\n",
            "        [[10, 10],\n",
            "         [10, 10]]]) torch.Size([2, 2, 2])\n"
          ]
        }
      ]
    },
    {
      "cell_type": "markdown",
      "source": [
        "# Datatypes"
      ],
      "metadata": {
        "id": "EBQIMk8wGvBb"
      }
    },
    {
      "cell_type": "code",
      "source": [
        "t = torch.tensor(10, dtype = torch.float32)\n",
        "t.dtype"
      ],
      "metadata": {
        "colab": {
          "base_uri": "https://localhost:8080/"
        },
        "id": "9aEr8rOPGeOg",
        "outputId": "e6e0539f-0677-4b9c-9fb2-73b634c1a4d7"
      },
      "execution_count": 27,
      "outputs": [
        {
          "output_type": "execute_result",
          "data": {
            "text/plain": [
              "torch.float32"
            ]
          },
          "metadata": {},
          "execution_count": 27
        }
      ]
    },
    {
      "cell_type": "markdown",
      "source": [
        "# Tensor Operations"
      ],
      "metadata": {
        "id": "-G1_JqgjI3d6"
      }
    },
    {
      "cell_type": "code",
      "source": [
        "a = torch.tensor([1, 2, 3, 4, 5])\n",
        "b = torch.tensor([5, 6, 7, 8, 0])"
      ],
      "metadata": {
        "id": "iTUOd9aXG1Me"
      },
      "execution_count": 28,
      "outputs": []
    },
    {
      "cell_type": "code",
      "source": [
        "a.shape, b.shape"
      ],
      "metadata": {
        "colab": {
          "base_uri": "https://localhost:8080/"
        },
        "id": "bK5O8aY1Jnru",
        "outputId": "254c320d-9ade-4ba3-ec73-d7a8969414f2"
      },
      "execution_count": 36,
      "outputs": [
        {
          "output_type": "execute_result",
          "data": {
            "text/plain": [
              "(torch.Size([5]), torch.Size([5]))"
            ]
          },
          "metadata": {},
          "execution_count": 36
        }
      ]
    },
    {
      "cell_type": "code",
      "source": [
        "print(a+b)"
      ],
      "metadata": {
        "colab": {
          "base_uri": "https://localhost:8080/"
        },
        "id": "Bwo4CnjPJCsT",
        "outputId": "5da8c6db-a66d-4511-eef0-1a9193046f1a"
      },
      "execution_count": 30,
      "outputs": [
        {
          "output_type": "stream",
          "name": "stdout",
          "text": [
            "tensor([ 6,  8, 10, 12,  5])\n"
          ]
        }
      ]
    },
    {
      "cell_type": "code",
      "source": [
        "print(a*b)"
      ],
      "metadata": {
        "colab": {
          "base_uri": "https://localhost:8080/"
        },
        "id": "18TGqUgGJJq_",
        "outputId": "22015372-106d-48f5-a180-27d4a5ed0378"
      },
      "execution_count": 31,
      "outputs": [
        {
          "output_type": "stream",
          "name": "stdout",
          "text": [
            "tensor([ 5, 12, 21, 32,  0])\n"
          ]
        }
      ]
    },
    {
      "cell_type": "code",
      "source": [
        "print(a/b)"
      ],
      "metadata": {
        "colab": {
          "base_uri": "https://localhost:8080/"
        },
        "id": "xZT4Rmk5JQgS",
        "outputId": "c812c134-d45b-45f9-a9a5-c38b165006fe"
      },
      "execution_count": 32,
      "outputs": [
        {
          "output_type": "stream",
          "name": "stdout",
          "text": [
            "tensor([0.2000, 0.3333, 0.4286, 0.5000,    inf])\n"
          ]
        }
      ]
    },
    {
      "cell_type": "code",
      "source": [
        "print(a**2)"
      ],
      "metadata": {
        "colab": {
          "base_uri": "https://localhost:8080/"
        },
        "id": "lyOK-UktJR2G",
        "outputId": "2dc61be4-6a33-4bf1-8bbb-2789d2e16f71"
      },
      "execution_count": 33,
      "outputs": [
        {
          "output_type": "stream",
          "name": "stdout",
          "text": [
            "tensor([ 1,  4,  9, 16, 25])\n"
          ]
        }
      ]
    },
    {
      "cell_type": "markdown",
      "source": [
        "## Matrix multiplication"
      ],
      "metadata": {
        "id": "CnKBXZ8pJW3q"
      }
    },
    {
      "cell_type": "code",
      "source": [
        "torch.matmul(a, b)"
      ],
      "metadata": {
        "colab": {
          "base_uri": "https://localhost:8080/"
        },
        "id": "VHIKvRTpJSz-",
        "outputId": "3abc94be-5b3a-4199-d4bf-875415c1d5a1"
      },
      "execution_count": 34,
      "outputs": [
        {
          "output_type": "execute_result",
          "data": {
            "text/plain": [
              "tensor(70)"
            ]
          },
          "metadata": {},
          "execution_count": 34
        }
      ]
    },
    {
      "cell_type": "code",
      "source": [
        "torch.matmul(a,b) == a@b"
      ],
      "metadata": {
        "colab": {
          "base_uri": "https://localhost:8080/"
        },
        "id": "teKJzOEXJcTJ",
        "outputId": "091aa70c-5441-404a-d817-92037fc6e9a7"
      },
      "execution_count": 37,
      "outputs": [
        {
          "output_type": "execute_result",
          "data": {
            "text/plain": [
              "tensor(True)"
            ]
          },
          "metadata": {},
          "execution_count": 37
        }
      ]
    },
    {
      "cell_type": "markdown",
      "source": [
        "## Broadcasting"
      ],
      "metadata": {
        "id": "wsjCHAskJsfA"
      }
    },
    {
      "cell_type": "code",
      "source": [
        "a = torch.randn(1,2)\n",
        "b = torch.randn(2,3)\n",
        "print(f\" {torch.matmul(a,b)}, Shape: {torch.matmul(a,b).shape}\")"
      ],
      "metadata": {
        "colab": {
          "base_uri": "https://localhost:8080/"
        },
        "id": "bKcLZPKpJjzV",
        "outputId": "1fc688dc-0486-46a8-f63a-0487c92c992a"
      },
      "execution_count": 43,
      "outputs": [
        {
          "output_type": "stream",
          "name": "stdout",
          "text": [
            " tensor([[ 3.8940, -1.9102,  0.7607]]), Shape: torch.Size([1, 3])\n"
          ]
        }
      ]
    },
    {
      "cell_type": "markdown",
      "source": [
        "## Reshaping and manipulation of tensors"
      ],
      "metadata": {
        "id": "1LnR84pJKSFs"
      }
    },
    {
      "cell_type": "code",
      "source": [
        "x = torch.arange(1, 10)\n",
        "x"
      ],
      "metadata": {
        "colab": {
          "base_uri": "https://localhost:8080/"
        },
        "id": "Xwx75Pb8J6mp",
        "outputId": "34f0a779-78a8-4e5c-cbc7-f9faf156d0fd"
      },
      "execution_count": 50,
      "outputs": [
        {
          "output_type": "execute_result",
          "data": {
            "text/plain": [
              "tensor([1, 2, 3, 4, 5, 6, 7, 8, 9])"
            ]
          },
          "metadata": {},
          "execution_count": 50
        }
      ]
    },
    {
      "cell_type": "code",
      "source": [
        "x.shape"
      ],
      "metadata": {
        "colab": {
          "base_uri": "https://localhost:8080/"
        },
        "id": "x7dihB71KZ0l",
        "outputId": "4bce65d3-759e-4e65-cea9-8497ee85220d"
      },
      "execution_count": 47,
      "outputs": [
        {
          "output_type": "execute_result",
          "data": {
            "text/plain": [
              "torch.Size([9])"
            ]
          },
          "metadata": {},
          "execution_count": 47
        }
      ]
    },
    {
      "cell_type": "code",
      "source": [
        "x.reshape(3, 3)"
      ],
      "metadata": {
        "colab": {
          "base_uri": "https://localhost:8080/"
        },
        "id": "5he1AepOKcSC",
        "outputId": "9f74368e-de54-4d8b-dd94-a05c89ab7aba"
      },
      "execution_count": 48,
      "outputs": [
        {
          "output_type": "execute_result",
          "data": {
            "text/plain": [
              "tensor([[1, 2, 3],\n",
              "        [4, 5, 6],\n",
              "        [7, 8, 9]])"
            ]
          },
          "metadata": {},
          "execution_count": 48
        }
      ]
    },
    {
      "cell_type": "code",
      "source": [
        "x.view(3, 3)"
      ],
      "metadata": {
        "colab": {
          "base_uri": "https://localhost:8080/"
        },
        "id": "DNEGcAlGKifF",
        "outputId": "7bc36ec9-eff3-48fe-9eb8-9a21d8803576"
      },
      "execution_count": 51,
      "outputs": [
        {
          "output_type": "execute_result",
          "data": {
            "text/plain": [
              "tensor([[1, 2, 3],\n",
              "        [4, 5, 6],\n",
              "        [7, 8, 9]])"
            ]
          },
          "metadata": {},
          "execution_count": 51
        }
      ]
    },
    {
      "cell_type": "code",
      "source": [
        "x.unsqueeze(0), x.unsqueeze(0).shape  # Add dimension"
      ],
      "metadata": {
        "colab": {
          "base_uri": "https://localhost:8080/"
        },
        "id": "gW3V46LOKrbg",
        "outputId": "632ded26-5929-40cd-8019-b498bd4c2d28"
      },
      "execution_count": 63,
      "outputs": [
        {
          "output_type": "execute_result",
          "data": {
            "text/plain": [
              "(tensor([[1, 2, 3, 4, 5, 6, 7, 8, 9]]), torch.Size([1, 9]))"
            ]
          },
          "metadata": {},
          "execution_count": 63
        }
      ]
    },
    {
      "cell_type": "code",
      "source": [
        "x.unsqueeze(1), x.unsqueeze(1).shape  # Add dimension"
      ],
      "metadata": {
        "colab": {
          "base_uri": "https://localhost:8080/"
        },
        "id": "ewom80fsKtmy",
        "outputId": "d8b134f5-119d-4b19-dc40-7f7e85092c07"
      },
      "execution_count": 64,
      "outputs": [
        {
          "output_type": "execute_result",
          "data": {
            "text/plain": [
              "(tensor([[1],\n",
              "         [2],\n",
              "         [3],\n",
              "         [4],\n",
              "         [5],\n",
              "         [6],\n",
              "         [7],\n",
              "         [8],\n",
              "         [9]]),\n",
              " torch.Size([9, 1]))"
            ]
          },
          "metadata": {},
          "execution_count": 64
        }
      ]
    },
    {
      "cell_type": "code",
      "source": [
        "x.squeeze() # Remove dimension"
      ],
      "metadata": {
        "colab": {
          "base_uri": "https://localhost:8080/"
        },
        "id": "nCAQuWyIKwCT",
        "outputId": "5701cb4f-83fd-44d6-a4cb-9560f425cc44"
      },
      "execution_count": 65,
      "outputs": [
        {
          "output_type": "execute_result",
          "data": {
            "text/plain": [
              "tensor([1, 2, 3, 4, 5, 6, 7, 8, 9])"
            ]
          },
          "metadata": {},
          "execution_count": 65
        }
      ]
    },
    {
      "cell_type": "markdown",
      "source": [
        "## Other operations"
      ],
      "metadata": {
        "id": "ThOFAHHBLYxd"
      }
    },
    {
      "cell_type": "code",
      "source": [
        "a = torch.tensor([1, 2])\n",
        "b = torch.tensor([3, 4])"
      ],
      "metadata": {
        "id": "vENVIhqsLE--"
      },
      "execution_count": 67,
      "outputs": []
    },
    {
      "cell_type": "code",
      "source": [
        "torch.cat([a,b])  # concatenate along 0 dim"
      ],
      "metadata": {
        "colab": {
          "base_uri": "https://localhost:8080/"
        },
        "id": "tl1i2VqSLX6e",
        "outputId": "56886eca-bc0b-4971-aa40-81ea4bdd0383"
      },
      "execution_count": 73,
      "outputs": [
        {
          "output_type": "execute_result",
          "data": {
            "text/plain": [
              "tensor([1, 2, 3, 4])"
            ]
          },
          "metadata": {},
          "execution_count": 73
        }
      ]
    },
    {
      "cell_type": "code",
      "source": [
        "torch.hstack([a,b]) # horizontal stacking"
      ],
      "metadata": {
        "colab": {
          "base_uri": "https://localhost:8080/"
        },
        "id": "NBn_3gSMLdED",
        "outputId": "5601202d-1c68-4f4d-df14-0f4b3c7b1537"
      },
      "execution_count": 74,
      "outputs": [
        {
          "output_type": "execute_result",
          "data": {
            "text/plain": [
              "tensor([1, 2, 3, 4])"
            ]
          },
          "metadata": {},
          "execution_count": 74
        }
      ]
    },
    {
      "cell_type": "code",
      "source": [
        "torch.vstack([a,b]) # vertical stacking"
      ],
      "metadata": {
        "colab": {
          "base_uri": "https://localhost:8080/"
        },
        "id": "pOfB6iShLmHp",
        "outputId": "4f5d3584-dd95-42e1-be92-016d6ac2b589"
      },
      "execution_count": 75,
      "outputs": [
        {
          "output_type": "execute_result",
          "data": {
            "text/plain": [
              "tensor([[1, 2],\n",
              "        [3, 4]])"
            ]
          },
          "metadata": {},
          "execution_count": 75
        }
      ]
    },
    {
      "cell_type": "markdown",
      "source": [
        "# NumPy and PyTorch Interoperability"
      ],
      "metadata": {
        "id": "rpGMAYN4L5-Y"
      }
    },
    {
      "cell_type": "code",
      "source": [
        "import numpy as np"
      ],
      "metadata": {
        "id": "O-6RGUUgLphn"
      },
      "execution_count": 76,
      "outputs": []
    },
    {
      "cell_type": "code",
      "source": [
        "array = np.array([1, 2, 3, 4, 5])\n",
        "tensor = torch.from_numpy(array)\n",
        "tensor"
      ],
      "metadata": {
        "colab": {
          "base_uri": "https://localhost:8080/"
        },
        "id": "DgIGh-cjL-FI",
        "outputId": "bf3d8400-51d2-4010-c22d-641a0a74d4c2"
      },
      "execution_count": 79,
      "outputs": [
        {
          "output_type": "execute_result",
          "data": {
            "text/plain": [
              "tensor([1, 2, 3, 4, 5])"
            ]
          },
          "metadata": {},
          "execution_count": 79
        }
      ]
    },
    {
      "cell_type": "code",
      "source": [
        "tensor.numpy()"
      ],
      "metadata": {
        "colab": {
          "base_uri": "https://localhost:8080/"
        },
        "id": "mGzwNNU2MB8M",
        "outputId": "89b2a026-41df-4c85-ae7b-1e119109e634"
      },
      "execution_count": 80,
      "outputs": [
        {
          "output_type": "execute_result",
          "data": {
            "text/plain": [
              "array([1, 2, 3, 4, 5])"
            ]
          },
          "metadata": {},
          "execution_count": 80
        }
      ]
    },
    {
      "cell_type": "markdown",
      "source": [
        "# Automatic differentiation"
      ],
      "metadata": {
        "id": "7kNwLIEhMReY"
      }
    },
    {
      "cell_type": "code",
      "source": [
        "x = torch.tensor(2, dtype= torch.float32, requires_grad = True)\n",
        "\n",
        "y = 2 * x ** 2 + 3\n",
        "\n",
        "# dy/dx = 2 * 2* x = 4x = 4*2= 8\n",
        "\n",
        "y.backward()\n",
        "x.grad"
      ],
      "metadata": {
        "colab": {
          "base_uri": "https://localhost:8080/"
        },
        "id": "QlNGluEnMMNu",
        "outputId": "cbb8bf81-53d4-48c9-d23d-7104aff1c6b8"
      },
      "execution_count": 84,
      "outputs": [
        {
          "output_type": "execute_result",
          "data": {
            "text/plain": [
              "tensor(8.)"
            ]
          },
          "metadata": {},
          "execution_count": 84
        }
      ]
    },
    {
      "cell_type": "markdown",
      "source": [
        "### Stop gradient you can use:"
      ],
      "metadata": {
        "id": "hbNcKbQwNDzC"
      }
    },
    {
      "cell_type": "code",
      "source": [
        "y = x * 2\n",
        "y"
      ],
      "metadata": {
        "colab": {
          "base_uri": "https://localhost:8080/"
        },
        "id": "8q8Wle2kNQnX",
        "outputId": "18c999a8-8f87-48ab-bf44-36ba824c9de3"
      },
      "execution_count": 87,
      "outputs": [
        {
          "output_type": "execute_result",
          "data": {
            "text/plain": [
              "tensor(4., grad_fn=<MulBackward0>)"
            ]
          },
          "metadata": {},
          "execution_count": 87
        }
      ]
    },
    {
      "cell_type": "code",
      "source": [
        "with torch.inference_mode():\n",
        "  y = x * 2\n",
        "  print(y)"
      ],
      "metadata": {
        "colab": {
          "base_uri": "https://localhost:8080/"
        },
        "id": "14oFRTynMy_W",
        "outputId": "0a9ef02a-b0e9-476d-e0f0-aee41a53555a"
      },
      "execution_count": 88,
      "outputs": [
        {
          "output_type": "stream",
          "name": "stdout",
          "text": [
            "tensor(4.)\n"
          ]
        }
      ]
    },
    {
      "cell_type": "code",
      "source": [
        "with torch.no_grad():\n",
        "  y = x * 2\n",
        "  print(y)"
      ],
      "metadata": {
        "colab": {
          "base_uri": "https://localhost:8080/"
        },
        "id": "rcjN6VdWNKRX",
        "outputId": "d1e3b1b7-c977-42fe-9715-fd63c90bf278"
      },
      "execution_count": 89,
      "outputs": [
        {
          "output_type": "stream",
          "name": "stdout",
          "text": [
            "tensor(4.)\n"
          ]
        }
      ]
    },
    {
      "cell_type": "code",
      "source": [
        "y = x.detach() * 2\n",
        "y"
      ],
      "metadata": {
        "colab": {
          "base_uri": "https://localhost:8080/"
        },
        "id": "nSF_5NCNNZ0-",
        "outputId": "5fbea43d-8a25-4da2-e4cb-8bf3cad610f5"
      },
      "execution_count": 91,
      "outputs": [
        {
          "output_type": "execute_result",
          "data": {
            "text/plain": [
              "tensor(4.)"
            ]
          },
          "metadata": {},
          "execution_count": 91
        }
      ]
    },
    {
      "cell_type": "markdown",
      "source": [
        "# Moving to device"
      ],
      "metadata": {
        "id": "-VkRuneKNv4D"
      }
    },
    {
      "cell_type": "code",
      "source": [
        "x.to(device)\n",
        "x.device"
      ],
      "metadata": {
        "colab": {
          "base_uri": "https://localhost:8080/"
        },
        "id": "_ACoLpEKNfq-",
        "outputId": "6e5044ed-ad34-43b5-9e83-602702dccd76"
      },
      "execution_count": 95,
      "outputs": [
        {
          "output_type": "execute_result",
          "data": {
            "text/plain": [
              "device(type='cpu')"
            ]
          },
          "metadata": {},
          "execution_count": 95
        }
      ]
    },
    {
      "cell_type": "markdown",
      "source": [
        "# Setting Seed"
      ],
      "metadata": {
        "id": "Zw-KXljDN7b3"
      }
    },
    {
      "cell_type": "code",
      "source": [
        "torch.manual_seed(42)"
      ],
      "metadata": {
        "colab": {
          "base_uri": "https://localhost:8080/"
        },
        "id": "SJL2-kP-Ny5U",
        "outputId": "176a96dd-e46c-4598-c641-5a28af68588d"
      },
      "execution_count": 96,
      "outputs": [
        {
          "output_type": "execute_result",
          "data": {
            "text/plain": [
              "<torch._C.Generator at 0x78d224bed1b0>"
            ]
          },
          "metadata": {},
          "execution_count": 96
        }
      ]
    },
    {
      "cell_type": "code",
      "source": [
        "# For cude\n",
        "if torch.cuda.is_available():\n",
        "  torch.cuda.manual_seed(42)"
      ],
      "metadata": {
        "id": "2DezFgHUN-t6"
      },
      "execution_count": 97,
      "outputs": []
    },
    {
      "cell_type": "markdown",
      "source": [
        "# Other functions"
      ],
      "metadata": {
        "id": "09Qph2AUONWv"
      }
    },
    {
      "cell_type": "code",
      "source": [
        "a = torch.tensor([1, 2, 3])\n",
        "b = torch.tensor([1, 2, 4])\n",
        "\n",
        "print(torch.eq(a, b))         # element-wise\n",
        "print(torch.equal(a, b))      # exact match (True/False)\n"
      ],
      "metadata": {
        "colab": {
          "base_uri": "https://localhost:8080/"
        },
        "id": "fVdgUv23OJp1",
        "outputId": "366f7a63-197d-4fa7-b775-a2f30c968dd7"
      },
      "execution_count": 98,
      "outputs": [
        {
          "output_type": "stream",
          "name": "stdout",
          "text": [
            "tensor([ True,  True, False])\n",
            "False\n"
          ]
        }
      ]
    },
    {
      "cell_type": "code",
      "source": [
        "x = torch.tensor([[1, 2], [3, 4]], dtype = torch.float32)\n",
        "\n",
        "print(x.sum())\n",
        "print(x.mean())\n",
        "print(x.max(), x.argmax())\n",
        "print(x.min(), x.argmin())\n",
        "\n",
        "# Along dimensions\n",
        "print(x.sum(dim=0))  # sum across rows\n",
        "print(x.sum(dim=1))  # sum across columns\n"
      ],
      "metadata": {
        "colab": {
          "base_uri": "https://localhost:8080/"
        },
        "id": "ktwk5uvPOP0l",
        "outputId": "55fc0084-76c1-446e-94a1-49dd02d74f7d"
      },
      "execution_count": 100,
      "outputs": [
        {
          "output_type": "stream",
          "name": "stdout",
          "text": [
            "tensor(10.)\n",
            "tensor(2.5000)\n",
            "tensor(4.) tensor(3)\n",
            "tensor(1.) tensor(0)\n",
            "tensor([4., 6.])\n",
            "tensor([3., 7.])\n"
          ]
        }
      ]
    },
    {
      "cell_type": "markdown",
      "source": [
        "### Tensor Type Conversion"
      ],
      "metadata": {
        "id": "ivyIkLu6OlT0"
      }
    },
    {
      "cell_type": "code",
      "source": [
        "x = torch.tensor([1, 2, 3])\n",
        "print(x.dtype)"
      ],
      "metadata": {
        "colab": {
          "base_uri": "https://localhost:8080/"
        },
        "id": "aQShNfgGOUQ2",
        "outputId": "20aa7743-f4eb-4c29-b3cd-fb9b0429bce3"
      },
      "execution_count": 101,
      "outputs": [
        {
          "output_type": "stream",
          "name": "stdout",
          "text": [
            "torch.int64\n"
          ]
        }
      ]
    },
    {
      "cell_type": "code",
      "source": [
        "# Float conversion\n",
        "x_f = x.float()\n",
        "x_f"
      ],
      "metadata": {
        "colab": {
          "base_uri": "https://localhost:8080/"
        },
        "id": "USuQkugNOnMd",
        "outputId": "8a848a1c-a242-4291-ead3-acf83cf7536e"
      },
      "execution_count": 103,
      "outputs": [
        {
          "output_type": "execute_result",
          "data": {
            "text/plain": [
              "tensor([1., 2., 3.])"
            ]
          },
          "metadata": {},
          "execution_count": 103
        }
      ]
    },
    {
      "cell_type": "code",
      "source": [
        "# Long (int64)\n",
        "x_long = x.long()\n",
        "x_long"
      ],
      "metadata": {
        "colab": {
          "base_uri": "https://localhost:8080/"
        },
        "id": "Oo1V1yJKOo0z",
        "outputId": "48bc5271-dcca-4d4d-9042-054716339a34"
      },
      "execution_count": 104,
      "outputs": [
        {
          "output_type": "execute_result",
          "data": {
            "text/plain": [
              "tensor([1, 2, 3])"
            ]
          },
          "metadata": {},
          "execution_count": 104
        }
      ]
    }
  ]
}